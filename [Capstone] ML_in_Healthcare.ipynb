{
 "cells": [
  {
   "cell_type": "markdown",
   "id": "MBIPlgwErdKj",
   "metadata": {
    "id": "MBIPlgwErdKj"
   },
   "source": [
    "# [Capstone Project] ML for Healthcare\n",
    "\n",
    "\n"
   ]
  },
  {
   "cell_type": "markdown",
   "id": "a96DB6WusScU",
   "metadata": {
    "id": "a96DB6WusScU"
   },
   "source": [
    "## Introduction\n",
    "\n",
    "You are supposed to program in Python to analyze a real-world dataset.\n",
    "\n",
    "### Rule to complete the assignment\n",
    "The basic rule is to write down your code after Each **TODO** line. There's **no limitation** on what libraries you use, how many lines code you write, how many cells you use in JupyterNotebook, etc.\n",
    "\n",
    "### Grading\n",
    "The grade will be given based on the performance of your model on a testing dataset. Note, this **testing dataset** is private to the instructor and TA. As a student, you don't have access to the test dataset. What you can do is to refine or polish your model based on the **training** and **validation** set. Submit the best model you have."
   ]
  },
  {
   "cell_type": "markdown",
   "id": "fd8c2c3b",
   "metadata": {
    "id": "fd8c2c3b"
   },
   "source": [
    "# Overview\n",
    "We will delve into the practical application of Artificial Intelligence within the field of healthcare.\n",
    "This lab will include:\n",
    "- Dataset introduction\n",
    "- Preprocessing\n",
    "- Problem definition\n",
    "- Feature engineering\n",
    "- Model selection\n",
    "- Training the model\n",
    "- Validation and hyperparameter tuning\n",
    "- Evaluation metrics\n"
   ]
  },
  {
   "cell_type": "markdown",
   "id": "a6e0d170",
   "metadata": {
    "id": "a6e0d170"
   },
   "source": [
    "## Dataset introduction\n",
    "For this lab, we will take one ECG dataset as example from the UCR Time Series Classification Archive.\n",
    "\n",
    "### **UCR Time Series Classification Archive**  \n",
    "Maintained by the University of California, Riverside (UCR), it is a valuable resource and repository for time series data and related classification problems. This archive is a comprehensive collection of various time series datasets designed specifically for benchmarking and evaluating time series classification algorithms and methods.\n",
    "FYI, the whole UCR raw data download link: https://www.cs.ucr.edu/%7Eeamonn/time_series_data_2018/\n",
    "\n",
    "But in this lab, you don't need it. **Please download the ECG5000 dataset on Canvas under the module of [Lab] Applied AI in Healthcare.**"
   ]
  },
  {
   "cell_type": "markdown",
   "id": "1749d9ac",
   "metadata": {
    "id": "1749d9ac"
   },
   "source": [
    "### **ECG5000**  \n",
    "> The original data set for *ECG5000* is a 20-hour long ECG downloaded from Physionet_ATM [1]. The database is BIDMC Congestive Heart Failure Database(chfdb) and the record is chf07. It was originally published by Goldberger et al. [2]. The data were pre-processed in two steps, first extracting each heartbeat and then making each heartbeat equal length using interpolation. These data were originally used by Chen et al. [3]. After that, 5000 heartbeats were randomly selected to make the current data set. Data were from a patient who has severe congestive heart failure. The class values were obtained by automated annotation.\n",
    "\n",
    ">[1] https://physionet.org/cgi-bin/atm/ATM  \n",
    ">[2] Goldberger, Ary L., et al. \"PhysioBank, PhysioToolkit, and PhysioNet: components of a new research resource for complex physiologic signals.\" Circulation 101.23 (2000): e215-e220.  \n",
    ">[3] Chen, Yanping, et al. \"A general framework for never-ending learning from time series streams.\" Data Mining and Knowledge Discovery 29.6 (2015): 1622-1664.  \n",
    ">[4] http://www.timeseriesclassification.com/description.php?Dataset=ECG5000"
   ]
  },
  {
   "cell_type": "markdown",
   "id": "c84952b8",
   "metadata": {
    "id": "c84952b8"
   },
   "source": [
    "|                 Class name                 | Abbreviation |\n",
    "|:------------------------------------------:|:------------:|\n",
    "|                   Normal                   |       N      |            \n",
    "|  R-on-T premature ventricular contraction  |       r      |             \n",
    "| Supraventricular premature or ectopic beat |       S      |           \n",
    "|      Premature ventricular contraction     |       V      |            \n",
    "|             Unclassifiable beat            |       Q      |      "
   ]
  },
  {
   "cell_type": "markdown",
   "id": "ina0xQnkr9Um",
   "metadata": {
    "id": "ina0xQnkr9Um"
   },
   "source": [
    "## TODO 1 Load the dataset (2 points)\n",
    "\n",
    "0. Download the ECG5000 dataset on Canvas under the module of [Lab] Applied AI in Healthcare. Put the folder at the same path as your Jupyter code (aka, this file). In other words, th path should be *ECG5000/ECG5000_train.pickle* when loading the data in this file.\n",
    "\n",
    "After my modification, the dataset contains 5000 samples, 500 in training, 1500 in validation, and 3000 for testing. **However, the testing set is unaviliable to you!** The testing set is used to evaluate your model and grading.\n",
    "\n",
    "Your task is to train your model on the training set and evaluate your model on the validation set.\n",
    "\n",
    "1. Load the *ECG5000_train.pickle* and *ECG5000_validation.pickle* file, save the file into variable *ECGdataset*.\n",
    "\n",
    "2. Print out the first Sample, only the first sample.\n",
    "\n",
    "3. What the value of the first feature of the 10-th sample? Print it out.\n",
    "\n",
    "**Note:** The time series length of ECG5000 is 140 which is the feature, the labels is the first column of the dataset array.\n",
    "\n",
    "\n",
    "\n",
    "\n",
    "\n",
    "\n",
    "\n",
    "\n",
    "\n"
   ]
  },
  {
   "cell_type": "code",
   "execution_count": 10,
   "id": "0a9a2b9a",
   "metadata": {
    "id": "0a9a2b9a"
   },
   "outputs": [
    {
     "name": "stdout",
     "output_type": "stream",
     "text": [
      "First training sample: [-0.11252183 -2.8272038  -3.7738969  -4.3497511  -4.376041   -3.4749863\n",
      " -2.1814082  -1.8182865  -1.2505219  -0.47749208 -0.36380791 -0.49195659\n",
      " -0.42185509 -0.30920086 -0.4959387  -0.34211867 -0.35533627 -0.36791303\n",
      " -0.31650279 -0.41237405 -0.47167181 -0.41345783 -0.36461703 -0.44929829\n",
      " -0.47141866 -0.42477658 -0.46251673 -0.55247236 -0.47537519 -0.6942\n",
      " -0.7018681  -0.59381178 -0.66068415 -0.71383066 -0.76980688 -0.67228161\n",
      " -0.65367605 -0.63940562 -0.55930228 -0.59167032 -0.49322332 -0.46305183\n",
      " -0.30164382 -0.23273401 -0.12505488 -0.15394314 -0.0243574  -0.06560876\n",
      "  0.03499926  0.06193522  0.07119542  0.12392505  0.10312371  0.22522849\n",
      "  0.12868305  0.30248315  0.25727621  0.19635161  0.17938297  0.24472863\n",
      "  0.34121687  0.32820441  0.40604169  0.44660507  0.42406823  0.48151204\n",
      "  0.4778438   0.62408259  0.57458456  0.59801319  0.5645919   0.607979\n",
      "  0.62063457  0.65625291  0.68474806  0.69427284  0.66558377  0.57579577\n",
      "  0.63813479  0.61491695  0.56908343  0.46857572  0.44281777  0.46827436\n",
      "  0.43249295  0.40795792  0.41862256  0.36253075  0.41095901  0.47166633\n",
      "  0.37216676  0.33787543  0.22140511  0.27399747  0.29866408  0.26356357\n",
      "  0.34256352  0.41950529  0.58660736  0.86062387  1.1733446   1.2581791\n",
      "  1.4337887   1.7005334   1.9990431   2.1253411   1.9932907   1.9322463\n",
      "  1.7974367   1.5222839   1.2511679   0.99873034  0.48372242  0.02313229\n",
      " -0.19491383 -0.22091729 -0.24373668 -0.25469462 -0.29113555 -0.25649034\n",
      " -0.22787425 -0.32242276 -0.28928586 -0.31816951 -0.36365359 -0.39345584\n",
      " -0.26641886 -0.25682316 -0.28869399 -0.16233755  0.16034772  0.79216787\n",
      "  0.93354122  0.79695779  0.57862066  0.2577399   0.22807718  0.12343082\n",
      "  0.92528624  0.19313742]\n",
      "First feature of 10th sample: -0.83228111\n"
     ]
    }
   ],
   "source": [
    "import pickle\n",
    "import numpy as np\n",
    "from sklearn.preprocessing import StandardScaler\n",
    "from sklearn.neighbors import KNeighborsClassifier\n",
    "\n",
    "with open('ECG5000_train.pickle', 'rb') as f:\n",
    "    train_raw = pickle.load(f)\n",
    "\n",
    "with open('ECG5000_validation.pickle', 'rb') as f:\n",
    "    val_raw = pickle.load(f)\n",
    "\n",
    "\n",
    "# According to the note: labels are the first column, features are the rest 140 values\n",
    "train_raw = np.array(train_raw)\n",
    "val_raw = np.array(val_raw)\n",
    "\n",
    "X_train = train_raw[:, 1:]   # 140 time-series features\n",
    "y_train = train_raw[:, 0]    # first column is label\n",
    "\n",
    "X_val = val_raw[:, 1:]\n",
    "y_val = val_raw[:, 0]\n",
    "\n",
    "ECGdataset = {\n",
    "    'train': X_train,\n",
    "    'train_labels': y_train,\n",
    "    'validation': X_val,\n",
    "    'validation_labels': y_val\n",
    "}\n",
    "\n",
    "\n",
    "# 3. Print out the first sample\n",
    "print(\"First training sample:\", ECGdataset['train'][0])\n",
    "\n",
    "# 4. Value of first feature of the 10th sample\n",
    "print(\"First feature of 10th sample:\", ECGdataset['train'][9][0])"
   ]
  },
  {
   "cell_type": "markdown",
   "id": "8ybNyRGN8WhB",
   "metadata": {
    "id": "8ybNyRGN8WhB"
   },
   "source": [
    "## TODO 2 Preprocessing (4 points)\n",
    "\n",
    "1. Normalize each sample (features) following the time-dimention, using the *sklearn.preprocessing.StandardScaler* function. Please remember to install and import the *sklearn* library.\n",
    "\n",
    "2. Note, as the training and validation sets are already splitted into two different files, you need to do the preprocessing for them independently (seperately)."
   ]
  },
  {
   "cell_type": "code",
   "execution_count": 12,
   "id": "52fa4a22",
   "metadata": {
    "id": "52fa4a22"
   },
   "outputs": [],
   "source": [
    "import pickle\n",
    "import numpy as np\n",
    "from sklearn.preprocessing import StandardScaler\n"
   ]
  },
  {
   "cell_type": "code",
   "execution_count": 13,
   "id": "xeUlQkDGU8NI",
   "metadata": {
    "id": "xeUlQkDGU8NI"
   },
   "outputs": [],
   "source": [
    "def normalize_samples_independently(data):\n",
    "    normalized_data = []\n",
    "    for sample in data:\n",
    "        sample = sample.reshape(-1, 1)  # reshape to (timesteps, 1) for StandardScaler\n",
    "        scaler = StandardScaler()\n",
    "        normalized_sample = scaler.fit_transform(sample).flatten()\n",
    "        normalized_data.append(normalized_sample)\n",
    "    return np.array(normalized_data)\n",
    "\n",
    "X_train_normalized = normalize_samples_independently(X_train)\n",
    "X_val_normalized = normalize_samples_independently(X_val)\n",
    "\n",
    "# Update ECGdataset with normalized features\n",
    "ECGdataset['train'] = X_train_normalized\n",
    "ECGdataset['validation'] = X_val_normalized"
   ]
  },
  {
   "cell_type": "markdown",
   "id": "TsbfP8UX8Xwz",
   "metadata": {
    "id": "TsbfP8UX8Xwz"
   },
   "source": [
    "## TODO 3 Data Splitting (Skip in this lab)\n",
    "\n",
    "1. Generally, you need to randomly split the dataset into two parts and name them as *Training_set* and *Validation_set* .\n",
    "\n",
    "However, as I already split the data for you. **You can skip this TODO**."
   ]
  },
  {
   "cell_type": "markdown",
   "id": "_xC5m2BY8Y-r",
   "metadata": {
    "id": "_xC5m2BY8Y-r"
   },
   "source": [
    "## TODO 4 Train a KNN classifier (4 points)\n",
    "\n",
    "1. Use Sklearn library, train a KNN classifier (set K equals to *5*), feed the *Training_set* to the classifier."
   ]
  },
  {
   "cell_type": "code",
   "execution_count": 16,
   "id": "LMJfhjz28ZLI",
   "metadata": {
    "id": "LMJfhjz28ZLI"
   },
   "outputs": [
    {
     "name": "stdout",
     "output_type": "stream",
     "text": [
      "Validation Accuracy: 0.9213\n"
     ]
    },
    {
     "name": "stderr",
     "output_type": "stream",
     "text": [
      "C:\\Users\\purva\\anaconda3\\Lib\\site-packages\\joblib\\externals\\loky\\backend\\context.py:136: UserWarning: Could not find the number of physical cores for the following reason:\n",
      "[WinError 2] The system cannot find the file specified\n",
      "Returning the number of logical cores instead. You can silence this warning by setting LOKY_MAX_CPU_COUNT to the number of cores you want to use.\n",
      "  warnings.warn(\n",
      "  File \"C:\\Users\\purva\\anaconda3\\Lib\\site-packages\\joblib\\externals\\loky\\backend\\context.py\", line 257, in _count_physical_cores\n",
      "    cpu_info = subprocess.run(\n",
      "               ^^^^^^^^^^^^^^^\n",
      "  File \"C:\\Users\\purva\\anaconda3\\Lib\\subprocess.py\", line 548, in run\n",
      "    with Popen(*popenargs, **kwargs) as process:\n",
      "         ^^^^^^^^^^^^^^^^^^^^^^^^^^^\n",
      "  File \"C:\\Users\\purva\\anaconda3\\Lib\\subprocess.py\", line 1026, in __init__\n",
      "    self._execute_child(args, executable, preexec_fn, close_fds,\n",
      "  File \"C:\\Users\\purva\\anaconda3\\Lib\\subprocess.py\", line 1538, in _execute_child\n",
      "    hp, ht, pid, tid = _winapi.CreateProcess(executable, args,\n",
      "                       ^^^^^^^^^^^^^^^^^^^^^^^^^^^^^^^^^^^^^^^\n"
     ]
    }
   ],
   "source": [
    "from sklearn.model_selection import GridSearchCV\n",
    "knn = KNeighborsClassifier(n_neighbors=5,weights='uniform',metric= 'euclidean')\n",
    "\n",
    "\n",
    "\n",
    "knn.fit(ECGdataset['train'], ECGdataset['train_labels'])\n",
    "\n",
    "\n",
    "\n",
    "# Optional: Evaluate on validation set\n",
    "val_acc = knn.score(ECGdataset['validation'], ECGdataset['validation_labels'])\n",
    "print(f\"Validation Accuracy: {val_acc:.4f}\")"
   ]
  },
  {
   "cell_type": "code",
   "execution_count": 17,
   "id": "82cbbf5b-3e9f-4296-9bb0-aaed95cadea5",
   "metadata": {},
   "outputs": [],
   "source": [
    "import os\n",
    "\n",
    "os.environ['OMP_NUM_THREADS'] = '1'"
   ]
  },
  {
   "cell_type": "markdown",
   "id": "54xLvhSl8ZRn",
   "metadata": {
    "id": "54xLvhSl8ZRn"
   },
   "source": [
    "## TODO 5 Validate the classifier (8 points)\n",
    "\n",
    "\n",
    "1. Use the trained classifier to predict the classes of the *Validation_set* .\n",
    "\n",
    "2. Print out the Accuracy, Precision, Recall, F1 score, AUROC, confusion matrix. For the matrix (except confusion matrix),keep 4 digits (such as 0.9856).\n",
    "\n",
    "3. Create a list, named *model_performance_knn* with 5 elements, which are Accuracy, Precision, Recall, F1 score, AUROC, respectively. Create a numpy array named *cf_matrix* to store the confusion matrix.\n",
    "\n"
   ]
  },
  {
   "cell_type": "code",
   "execution_count": 29,
   "id": "y0hMpWV68ZXX",
   "metadata": {
    "id": "y0hMpWV68ZXX"
   },
   "outputs": [
    {
     "name": "stdout",
     "output_type": "stream",
     "text": [
      "Model Performance (KNN):\n",
      "Accuracy: 0.9213\n",
      "Precision: 0.9067\n",
      "Recall: 0.9213\n",
      "F1 Score: 0.9081\n",
      "AUROC: 0.9543\n",
      "Macro-average Specificity: 0.9731\n",
      "\n",
      "Confusion Matrix:\n",
      "[[780   0   0   1   0]\n",
      " [ 15 560   2  13   0]\n",
      " [ 13  19  11   0   0]\n",
      " [  8  35   1  31   0]\n",
      " [  5   5   0   1   0]]\n"
     ]
    },
    {
     "name": "stderr",
     "output_type": "stream",
     "text": [
      "C:\\Users\\purva\\anaconda3\\Lib\\site-packages\\sklearn\\metrics\\_classification.py:1531: UndefinedMetricWarning: Precision is ill-defined and being set to 0.0 in labels with no predicted samples. Use `zero_division` parameter to control this behavior.\n",
      "  _warn_prf(average, modifier, f\"{metric.capitalize()} is\", len(result))\n"
     ]
    }
   ],
   "source": [
    "from sklearn.metrics import accuracy_score, precision_score, recall_score, f1_score, roc_auc_score, confusion_matrix\n",
    "from sklearn.preprocessing import label_binarize\n",
    "import numpy as np\n",
    "\n",
    "# Predict on validation set\n",
    "val_preds = knn.predict(ECGdataset['validation'])\n",
    "\n",
    "# Compute evaluation metrics\n",
    "accuracy = round(accuracy_score(ECGdataset['validation_labels'], val_preds), 4)\n",
    "precision = round(precision_score(ECGdataset['validation_labels'], val_preds, average='weighted'), 4)\n",
    "recall = round(recall_score(ECGdataset['validation_labels'], val_preds, average='weighted'), 4)\n",
    "f1 = round(f1_score(ECGdataset['validation_labels'], val_preds, average='weighted'), 4)\n",
    "\n",
    "# AUROC (handle multiclass)\n",
    "val_labels_bin = label_binarize(ECGdataset['validation_labels'], classes=np.unique(ECGdataset['train_labels']))\n",
    "val_probs = knn.predict_proba(ECGdataset['validation'])\n",
    "auroc = round(roc_auc_score(val_labels_bin, val_probs, average='weighted', multi_class='ovr'), 4)\n",
    "\n",
    "# Confusion matrix\n",
    "cf_matrix = confusion_matrix(ECGdataset['validation_labels'], val_preds)\n",
    "\n",
    "# Specificity per class\n",
    "specificity_per_class = []\n",
    "for i in range(len(cf_matrix)):\n",
    "    tn = np.sum(np.delete(np.delete(cf_matrix, i, axis=0), i, axis=1))  # sum of all except row i and column i\n",
    "    fp = np.sum(np.delete(cf_matrix[:, i], i))  # sum of column i except [i,i]\n",
    "    specificity = tn / (tn + fp) if (tn + fp) != 0 else 0\n",
    "    specificity_per_class.append(round(specificity, 4))\n",
    "\n",
    "# Macro-average specificity\n",
    "macro_specificity = round(np.mean(specificity_per_class), 4)\n",
    "\n",
    "# Store results\n",
    "model_performance_knn = [accuracy, precision, recall, f1, auroc, macro_specificity]\n",
    "\n",
    "# Output results\n",
    "print(\"Model Performance (KNN):\")\n",
    "print(f\"Accuracy: {accuracy}\")\n",
    "print(f\"Precision: {precision}\")\n",
    "print(f\"Recall: {recall}\")\n",
    "print(f\"F1 Score: {f1}\")\n",
    "print(f\"AUROC: {auroc}\")\n",
    "print(f\"Macro-average Specificity: {macro_specificity}\")\n",
    "\n",
    "\n",
    "\n",
    "print(\"\\nConfusion Matrix:\")\n",
    "print(cf_matrix)\n"
   ]
  },
  {
   "cell_type": "markdown",
   "id": "bhrwzFxr8ZdQ",
   "metadata": {
    "id": "bhrwzFxr8ZdQ"
   },
   "source": [
    "## TODO 6 Visulize the confusion matrix (2 points)\n",
    "\n",
    "1. Use *seaborn* library to visualize the confusion matrix using *heatmap*. The labels should contain the counts and percentage.\n",
    "\n",
    "2. FYI, you may check how to use seaborn to draw heatmap at https://medium.com/@dtuk81/confusion-matrix-visualization-fc31e3f30fea"
   ]
  },
  {
   "cell_type": "code",
   "execution_count": 21,
   "id": "c54607fd",
   "metadata": {
    "id": "c54607fd"
   },
   "outputs": [
    {
     "data": {
      "text/plain": [
       "Text(50.722222222222214, 0.5, 'True Labels')"
      ]
     },
     "execution_count": 21,
     "metadata": {},
     "output_type": "execute_result"
    },
    {
     "data": {
      "image/png": "[encoded data removed]",
      "text/plain": [
       "<Figure size 640x480 with 2 Axes>"
      ]
     },
     "metadata": {},
     "output_type": "display_data"
    }
   ],
   "source": [
    "import seaborn as sns\n",
    "import matplotlib.pyplot as plt\n",
    "plt.figure(dpi=100)\n",
    "\n",
    "group_counts = [\"{0:0.0f}\".format(value) for value in cf_matrix.flatten()]\n",
    "group_percentages = [\"{0:.2%}\".format(value) for value in cf_matrix.flatten()/np.sum(cf_matrix)]\n",
    "labels = [f\"{v1}\\n{v2}\" for v1, v2, in zip(group_counts,group_percentages)]\n",
    "labels = np.asarray(labels).reshape(5,5)\n",
    "sns.heatmap(cf_matrix, annot=labels, fmt='', cmap='Blues')\n",
    "\n",
    "plt.xlabel('Predicted Labels')\n",
    "plt.ylabel('True Labels')"
   ]
  }
 ],
 "metadata": {
  "colab": {
   "provenance": [],
   "toc_visible": true
  },
  "kernelspec": {
   "display_name": "Python [conda env:base] *",
   "language": "python",
   "name": "conda-base-py"
  },
  "language_info": {
   "codemirror_mode": {
    "name": "ipython",
    "version": 3
   },
   "file_extension": ".py",
   "mimetype": "text/x-python",
   "name": "python",
   "nbconvert_exporter": "python",
   "pygments_lexer": "ipython3",
   "version": "3.12.7"
  },
  "toc": {
   "base_numbering": 1,
   "nav_menu": {},
   "number_sections": true,
   "sideBar": true,
   "skip_h1_title": false,
   "title_cell": "Table of Contents",
   "title_sidebar": "Contents",
   "toc_cell": false,
   "toc_position": {},
   "toc_section_display": true,
   "toc_window_display": false
  }
 },
 "nbformat": 4,
 "nbformat_minor": 5
}
