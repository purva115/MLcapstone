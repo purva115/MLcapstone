{
 "cells": [
  {
   "cell_type": "code",
   "execution_count": 74,
   "id": "53b67e90-4b12-41b8-a074-05e750c3ad19",
   "metadata": {},
   "outputs": [],
   "source": [
    "#Load the dataset \n",
    "\n",
    "import pickle\n",
    "import numpy as np\n",
    "\n",
    "# Load training and validation sets\n",
    "with open('ECG5000_train.pickle', 'rb') as f:\n",
    "    train_data = pickle.load(f)\n",
    "\n",
    "with open('ECG5000_validation.pickle', 'rb') as f:\n",
    "    val_data = pickle.load(f)\n"
   ]
  },
  {
   "cell_type": "code",
   "execution_count": 75,
   "id": "6677b93c-6c33-434f-8e07-74fd5b5681e4",
   "metadata": {},
   "outputs": [
    {
     "name": "stdout",
     "output_type": "stream",
     "text": [
      "Train shape: (500, 140, 1)\n",
      "Validation shape: (1500, 140, 1)\n"
     ]
    }
   ],
   "source": [
    "#Preprocessing\n",
    "# Separate features and labels\n",
    "from sklearn.preprocessing import StandardScaler\n",
    "y_train = train_data[:, 0].astype(int)\n",
    "X_train = train_data[:, 1:]\n",
    "\n",
    "y_val = val_data[:, 0].astype(int)\n",
    "X_val = val_data[:, 1:]\n",
    "\n",
    "# Normalize each set independently\n",
    "scaler_train = StandardScaler()\n",
    "X_train_scaled = scaler_train.fit_transform(X_train)\n",
    "\n",
    "scaler_val = StandardScaler()\n",
    "X_val_scaled = scaler_val.fit_transform(X_val)\n",
    "\n",
    "# Reshape for CNN/LSTM input: (samples, timesteps, channels)\n",
    "X_train_scaled = X_train_scaled.reshape((X_train_scaled.shape[0], X_train_scaled.shape[1], 1))\n",
    "X_val_scaled = X_val_scaled.reshape((X_val_scaled.shape[0], X_val_scaled.shape[1], 1))\n",
    "\n",
    "# Confirm shapes\n",
    "print(\"Train shape:\", X_train_scaled.shape)\n",
    "print(\"Validation shape:\", X_val_scaled.shape)"
   ]
  },
  {
   "cell_type": "code",
   "execution_count": 76,
   "id": "fd63130e-b551-4e90-8140-734225f151e1",
   "metadata": {},
   "outputs": [
    {
     "name": "stdout",
     "output_type": "stream",
     "text": [
      "Epoch 1/20\n"
     ]
    },
    {
     "name": "stderr",
     "output_type": "stream",
     "text": [
      "C:\\Users\\purva\\anaconda3\\Lib\\site-packages\\keras\\src\\layers\\convolutional\\base_conv.py:107: UserWarning: Do not pass an `input_shape`/`input_dim` argument to a layer. When using Sequential models, prefer using an `Input(shape)` object as the first layer in the model instead.\n",
      "  super().__init__(activity_regularizer=activity_regularizer, **kwargs)\n"
     ]
    },
    {
     "name": "stdout",
     "output_type": "stream",
     "text": [
      "\u001b[1m16/16\u001b[0m \u001b[32m━━━━━━━━━━━━━━━━━━━━\u001b[0m\u001b[37m\u001b[0m \u001b[1m7s\u001b[0m 145ms/step - accuracy: 0.4284 - loss: 1.5012 - val_accuracy: 0.8280 - val_loss: 0.9250\n",
      "Epoch 2/20\n",
      "\u001b[1m16/16\u001b[0m \u001b[32m━━━━━━━━━━━━━━━━━━━━\u001b[0m\u001b[37m\u001b[0m \u001b[1m2s\u001b[0m 106ms/step - accuracy: 0.7767 - loss: 0.7733 - val_accuracy: 0.8473 - val_loss: 0.6423\n",
      "Epoch 3/20\n",
      "\u001b[1m16/16\u001b[0m \u001b[32m━━━━━━━━━━━━━━━━━━━━\u001b[0m\u001b[37m\u001b[0m \u001b[1m3s\u001b[0m 134ms/step - accuracy: 0.8542 - loss: 0.5727 - val_accuracy: 0.8620 - val_loss: 0.5974\n",
      "Epoch 4/20\n",
      "\u001b[1m16/16\u001b[0m \u001b[32m━━━━━━━━━━━━━━━━━━━━\u001b[0m\u001b[37m\u001b[0m \u001b[1m2s\u001b[0m 137ms/step - accuracy: 0.8971 - loss: 0.4350 - val_accuracy: 0.8767 - val_loss: 0.5324\n",
      "Epoch 5/20\n",
      "\u001b[1m16/16\u001b[0m \u001b[32m━━━━━━━━━━━━━━━━━━━━\u001b[0m\u001b[37m\u001b[0m \u001b[1m2s\u001b[0m 99ms/step - accuracy: 0.9184 - loss: 0.3984 - val_accuracy: 0.8880 - val_loss: 0.4484\n",
      "Epoch 6/20\n",
      "\u001b[1m16/16\u001b[0m \u001b[32m━━━━━━━━━━━━━━━━━━━━\u001b[0m\u001b[37m\u001b[0m \u001b[1m2s\u001b[0m 143ms/step - accuracy: 0.9368 - loss: 0.2880 - val_accuracy: 0.8927 - val_loss: 0.3815\n",
      "Epoch 7/20\n",
      "\u001b[1m16/16\u001b[0m \u001b[32m━━━━━━━━━━━━━━━━━━━━\u001b[0m\u001b[37m\u001b[0m \u001b[1m2s\u001b[0m 131ms/step - accuracy: 0.9272 - loss: 0.2845 - val_accuracy: 0.9013 - val_loss: 0.3493\n",
      "Epoch 8/20\n",
      "\u001b[1m16/16\u001b[0m \u001b[32m━━━━━━━━━━━━━━━━━━━━\u001b[0m\u001b[37m\u001b[0m \u001b[1m2s\u001b[0m 111ms/step - accuracy: 0.9305 - loss: 0.2215 - val_accuracy: 0.9020 - val_loss: 0.3563\n",
      "Epoch 9/20\n",
      "\u001b[1m16/16\u001b[0m \u001b[32m━━━━━━━━━━━━━━━━━━━━\u001b[0m\u001b[37m\u001b[0m \u001b[1m3s\u001b[0m 129ms/step - accuracy: 0.9451 - loss: 0.2242 - val_accuracy: 0.9113 - val_loss: 0.3391\n",
      "Epoch 10/20\n",
      "\u001b[1m16/16\u001b[0m \u001b[32m━━━━━━━━━━━━━━━━━━━━\u001b[0m\u001b[37m\u001b[0m \u001b[1m3s\u001b[0m 126ms/step - accuracy: 0.9588 - loss: 0.1686 - val_accuracy: 0.9107 - val_loss: 0.3413\n",
      "Epoch 11/20\n",
      "\u001b[1m16/16\u001b[0m \u001b[32m━━━━━━━━━━━━━━━━━━━━\u001b[0m\u001b[37m\u001b[0m \u001b[1m2s\u001b[0m 143ms/step - accuracy: 0.9371 - loss: 0.2086 - val_accuracy: 0.9127 - val_loss: 0.3525\n",
      "Epoch 12/20\n",
      "\u001b[1m16/16\u001b[0m \u001b[32m━━━━━━━━━━━━━━━━━━━━\u001b[0m\u001b[37m\u001b[0m \u001b[1m2s\u001b[0m 129ms/step - accuracy: 0.9513 - loss: 0.1843 - val_accuracy: 0.9020 - val_loss: 0.3874\n"
     ]
    }
   ],
   "source": [
    "#Train Model\n",
    "from tensorflow.keras.models import Sequential\n",
    "from tensorflow.keras.layers import Conv1D, MaxPooling1D, LSTM, Dense, Dropout\n",
    "from tensorflow.keras.optimizers import Adam\n",
    "from tensorflow.keras.callbacks import EarlyStopping\n",
    "\n",
    "model = Sequential([\n",
    "    Conv1D(filters=32, kernel_size=5, activation='relu', input_shape=(140, 1)),\n",
    "    MaxPooling1D(pool_size=2),\n",
    "    LSTM(units=64, return_sequences=False),\n",
    "    Dropout(0.5),\n",
    "    Dense(units=64, activation='relu'),\n",
    "    Dense(units=5, activation='softmax')\n",
    "])\n",
    "\n",
    "model.compile(optimizer=Adam(learning_rate=0.001),\n",
    "              loss='sparse_categorical_crossentropy',\n",
    "              metrics=['accuracy'])\n",
    "\n",
    "early_stop = EarlyStopping(monitor='val_loss', patience=3, restore_best_weights=True)\n",
    "\n",
    "history = model.fit(\n",
    "    X_train, y_train,  # shape: (num_samples, 140, 1)\n",
    "    epochs=20,\n",
    "    batch_size=32,\n",
    "    validation_data=(X_val, y_val),\n",
    "    callbacks=[early_stop]\n",
    ")\n",
    "\n",
    "\n"
   ]
  },
  {
   "cell_type": "code",
   "execution_count": 77,
   "id": "ded8754b-b2b5-4fb9-9ff9-dcc83c8f57cd",
   "metadata": {},
   "outputs": [],
   "source": [
    "# from tensorflow.keras.models import Sequential\n",
    "# from tensorflow.keras.layers import Conv1D, MaxPooling1D, LSTM, Dense, Dropout, Flatten, LeakyReLU\n",
    "# from tensorflow.keras.optimizers import Adam\n",
    "# from tensorflow.keras.callbacks import EarlyStopping\n",
    "\n",
    "# model = Sequential()\n",
    "\n",
    "# # Conv Layer 1\n",
    "# model.add(Conv1D(filters=32, kernel_size=5, padding='same', input_shape=(140, 1)))\n",
    "# model.add(LeakyReLU(alpha=0.001))\n",
    "\n",
    "# # Conv Layer 2\n",
    "# model.add(Conv1D(filters=64, kernel_size=5, padding='same'))\n",
    "# model.add(LeakyReLU(alpha=0.001))\n",
    "\n",
    "# # Conv Layer 3\n",
    "# model.add(Conv1D(filters=64, kernel_size=5, padding='same'))\n",
    "# model.add(LeakyReLU(alpha=0.001))\n",
    "\n",
    "# # Conv Layer 4\n",
    "# model.add(Conv1D(filters=128, kernel_size=5, padding='same'))\n",
    "# model.add(LeakyReLU(alpha=0.001))\n",
    "\n",
    "# # Conv Layer 5\n",
    "# model.add(Conv1D(filters=128, kernel_size=5, padding='same'))\n",
    "# model.add(LeakyReLU(alpha=0.001))\n",
    "\n",
    "# # MaxPool + Dropout 1\n",
    "# model.add(MaxPooling1D(pool_size=5, strides=2, padding='same'))\n",
    "# model.add(Dropout(0.45))\n",
    "\n",
    "# # LSTM Layer 1\n",
    "# model.add(LSTM(210, return_sequences=True))\n",
    "\n",
    "# # MaxPool 2\n",
    "# model.add(MaxPooling1D(pool_size=5, strides=2, padding='same'))\n",
    "\n",
    "# # LSTM Layer 2\n",
    "# model.add(LSTM(190, return_sequences=True))\n",
    "\n",
    "# # MaxPool 3\n",
    "# model.add(MaxPooling1D(pool_size=5, strides=2, padding='same'))\n",
    "\n",
    "# # Flatten before FC layers\n",
    "# model.add(Flatten())\n",
    "\n",
    "# # Fully Connected Layer\n",
    "# model.add(Dense(64, activation='relu'))\n",
    "\n",
    "# # Output Layer\n",
    "# model.add(Dense(5, activation='softmax'))\n",
    "\n",
    "# # Compile\n",
    "# model.compile(\n",
    "#     optimizer=Adam(learning_rate=0.001),\n",
    "#     loss='sparse_categorical_crossentropy',\n",
    "#     metrics=['accuracy']\n",
    "# )\n",
    "\n",
    "# # Early stopping\n",
    "# early_stop = EarlyStopping(monitor='val_loss', patience=3, restore_best_weights=True)\n",
    "\n",
    "# # Train\n",
    "# history = model.fit(\n",
    "#     X_train, y_train,  # Input shape: (num_samples, 140, 1)\n",
    "#     epochs=20,\n",
    "#     batch_size=32,\n",
    "#     validation_data=(X_val, y_val),\n",
    "#     callbacks=[early_stop]\n",
    "# )\n"
   ]
  },
  {
   "cell_type": "code",
   "execution_count": 78,
   "id": "374f765a-7385-4290-85cf-a02031ce113b",
   "metadata": {},
   "outputs": [
    {
     "name": "stdout",
     "output_type": "stream",
     "text": [
      "\u001b[1m47/47\u001b[0m \u001b[32m━━━━━━━━━━━━━━━━━━━━\u001b[0m\u001b[37m\u001b[0m \u001b[1m2s\u001b[0m 28ms/step\n",
      "Model Performance (CNN+LSTM):\n",
      "Accuracy: 0.894\n",
      "Precision: 0.8468\n",
      "Recall: 0.894\n",
      "F1 Score: 0.8665\n",
      "AUROC: 0.9529\n",
      "Specificity (macro-average): 0.9632\n",
      "\n",
      "Confusion Matrix:\n",
      "[[776   1   0   4   0]\n",
      " [ 25 553   0  12   0]\n",
      " [ 14  29   0   0   0]\n",
      " [  9  54   0  12   0]\n",
      " [  7   3   0   1   0]]\n"
     ]
    },
    {
     "name": "stderr",
     "output_type": "stream",
     "text": [
      "C:\\Users\\purva\\anaconda3\\Lib\\site-packages\\sklearn\\metrics\\_classification.py:1531: UndefinedMetricWarning: Precision is ill-defined and being set to 0.0 in labels with no predicted samples. Use `zero_division` parameter to control this behavior.\n",
      "  _warn_prf(average, modifier, f\"{metric.capitalize()} is\", len(result))\n"
     ]
    }
   ],
   "source": [
    "#Validate the classifier\n",
    "\n",
    "from sklearn.metrics import accuracy_score, precision_score, recall_score, f1_score, roc_auc_score, confusion_matrix\n",
    "from sklearn.preprocessing import label_binarize\n",
    "import numpy as np\n",
    "\n",
    "# Predict class probabilities on validation set\n",
    "val_probs = model.predict(X_val_scaled)\n",
    "\n",
    "# Convert probabilities to class predictions\n",
    "val_preds = np.argmax(val_probs, axis=1)\n",
    "\n",
    "# Compute evaluation metrics\n",
    "accuracy = round(accuracy_score(y_val, val_preds), 4)\n",
    "precision = round(precision_score(y_val, val_preds, average='weighted'), 4)\n",
    "recall = round(recall_score(y_val, val_preds, average='weighted'), 4)\n",
    "f1 = round(f1_score(y_val, val_preds, average='weighted'), 4)\n",
    "\n",
    "# Binarize labels for AUROC calculation\n",
    "y_val_bin = label_binarize(y_val, classes=np.unique(y_val))\n",
    "auroc = round(roc_auc_score(y_val_bin, val_probs, average='weighted', multi_class='ovr'), 4)\n",
    "\n",
    "# Generate confusion matrix\n",
    "cf_matrix = confusion_matrix(y_val, val_preds)\n",
    "\n",
    "# Specificity calculation (per class)\n",
    "specificity_per_class = []\n",
    "for i in range(cf_matrix.shape[0]):\n",
    "    tn = np.sum(np.delete(np.delete(cf_matrix, i, axis=0), i, axis=1))\n",
    "    fp = np.sum(np.delete(cf_matrix, i, axis=0)[:, i])\n",
    "    specificity = tn / (tn + fp) if (tn + fp) > 0 else 0.0\n",
    "    specificity_per_class.append(specificity)\n",
    "\n",
    "# Macro-average specificity\n",
    "specificity_macro = round(np.mean(specificity_per_class), 4)\n",
    "\n",
    "# Store performance metrics\n",
    "model_performance_cnn_lstm = [accuracy, precision, recall, f1, auroc, specificity_macro]\n",
    "\n",
    "# Output results\n",
    "print(\"Model Performance (CNN+LSTM):\")\n",
    "print(f\"Accuracy: {accuracy}\")\n",
    "print(f\"Precision: {precision}\")\n",
    "print(f\"Recall: {recall}\")\n",
    "print(f\"F1 Score: {f1}\")\n",
    "print(f\"AUROC: {auroc}\")\n",
    "print(f\"Specificity (macro-average): {specificity_macro}\")\n",
    "\n",
    "print(\"\\nConfusion Matrix:\")\n",
    "print(cf_matrix)\n",
    "\n"
   ]
  },
  {
   "cell_type": "code",
   "execution_count": 79,
   "id": "91f7a14c-49c9-4dd8-817f-9711c7128701",
   "metadata": {},
   "outputs": [
    {
     "data": {
      "text/plain": [
       "Text(50.722222222222214, 0.5, 'True Labels')"
      ]
     },
     "execution_count": 79,
     "metadata": {},
     "output_type": "execute_result"
    },
    {
     "data": {
      "image/png": "[encoded data removed]",
      "text/plain": [
       "<Figure size 640x480 with 2 Axes>"
      ]
     },
     "metadata": {},
     "output_type": "display_data"
    }
   ],
   "source": [
    "# Visualize the confusion matrix \n",
    "import seaborn as sns\n",
    "import matplotlib.pyplot as plt\n",
    "plt.figure(dpi=100)\n",
    "\n",
    "group_counts = [\"{0:0.0f}\".format(value) for value in cf_matrix.flatten()]\n",
    "group_percentages = [\"{0:.2%}\".format(value) for value in cf_matrix.flatten()/np.sum(cf_matrix)]\n",
    "labels = [f\"{v1}\\n{v2}\" for v1, v2, in zip(group_counts,group_percentages)]\n",
    "labels = np.asarray(labels).reshape(5,5)\n",
    "sns.heatmap(cf_matrix, annot=labels, fmt='', cmap='Blues')\n",
    "\n",
    "plt.xlabel('Predicted Labels')\n",
    "plt.ylabel('True Labels')"
   ]
  },
  {
   "cell_type": "code",
   "execution_count": null,
   "id": "95fa0d89-f287-4ef8-b176-51da3003e7e3",
   "metadata": {},
   "outputs": [],
   "source": []
  }
 ],
 "metadata": {
  "kernelspec": {
   "display_name": "Python [conda env:base] *",
   "language": "python",
   "name": "conda-base-py"
  },
  "language_info": {
   "codemirror_mode": {
    "name": "ipython",
    "version": 3
   },
   "file_extension": ".py",
   "mimetype": "text/x-python",
   "name": "python",
   "nbconvert_exporter": "python",
   "pygments_lexer": "ipython3",
   "version": "3.12.7"
  }
 },
 "nbformat": 4,
 "nbformat_minor": 5
}
